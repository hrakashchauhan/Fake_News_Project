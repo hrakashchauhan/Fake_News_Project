{
 "cells": [
  {
   "cell_type": "code",
   "execution_count": null,
   "id": "0b3ebb2a",
   "metadata": {},
   "outputs": [
    {
     "name": "stdout",
     "output_type": "stream",
     "text": [
      "--- Step 1: Creating a clean and stable environment... ---\n",
      "Uninstalling old versions to prevent conflicts...\n",
      "\n",
      "Installing correct, stable library versions...\n",
      "\n",
      "Environment setup complete! The script will now proceed with the correct libraries.\n"
     ]
    },
    {
     "name": "stderr",
     "output_type": "stream",
     "text": [
      "d:\\Bhai ka project\\Fake_News_Project\\.venv\\Lib\\site-packages\\tqdm\\auto.py:21: TqdmWarning: IProgress not found. Please update jupyter and ipywidgets. See https://ipywidgets.readthedocs.io/en/stable/user_install.html\n",
      "  from .autonotebook import tqdm as notebook_tqdm\n",
      "W0725 10:02:00.586000 10648 Lib\\site-packages\\torch\\distributed\\elastic\\multiprocessing\\redirects.py:29] NOTE: Redirects are currently not supported in Windows or MacOs.\n"
     ]
    },
    {
     "name": "stdout",
     "output_type": "stream",
     "text": [
      "\n",
      "All libraries imported successfully.\n",
      "\n",
      "Loading the master dataset from: master_balanced_training_data.csv\n",
      "Data loaded and cleaned successfully with 160090 articles.\n",
      "\n",
      "Loading tokenizer for model: xlm-roberta-base\n"
     ]
    },
    {
     "name": "stderr",
     "output_type": "stream",
     "text": [
      "d:\\Bhai ka project\\Fake_News_Project\\.venv\\Lib\\site-packages\\huggingface_hub\\file_download.py:943: FutureWarning: `resume_download` is deprecated and will be removed in version 1.0.0. Downloads always resume when possible. If you want to force a new download, use `force_download=True`.\n",
      "  warnings.warn(\n"
     ]
    },
    {
     "name": "stdout",
     "output_type": "stream",
     "text": [
      "Tokenizing the dataset...\n"
     ]
    },
    {
     "name": "stderr",
     "output_type": "stream",
     "text": [
      "Map: 100%|██████████| 160090/160090 [01:48<00:00, 1482.08 examples/s]\n"
     ]
    },
    {
     "name": "stdout",
     "output_type": "stream",
     "text": [
      "Tokenization and splitting complete.\n",
      "\n",
      "Performance metrics function defined.\n",
      "\n",
      "Preparing training for local machine (CPU)...\n"
     ]
    },
    {
     "name": "stderr",
     "output_type": "stream",
     "text": [
      "Some weights of the model checkpoint at xlm-roberta-base were not used when initializing XLMRobertaForSequenceClassification: ['roberta.pooler.dense.weight', 'lm_head.bias', 'lm_head.layer_norm.bias', 'lm_head.dense.weight', 'roberta.pooler.dense.bias', 'lm_head.dense.bias', 'lm_head.layer_norm.weight']\n",
      "- This IS expected if you are initializing XLMRobertaForSequenceClassification from the checkpoint of a model trained on another task or with another architecture (e.g. initializing a BertForSequenceClassification model from a BertForPreTraining model).\n",
      "- This IS NOT expected if you are initializing XLMRobertaForSequenceClassification from the checkpoint of a model that you expect to be exactly identical (initializing a BertForSequenceClassification model from a BertForSequenceClassification model).\n",
      "Some weights of XLMRobertaForSequenceClassification were not initialized from the model checkpoint at xlm-roberta-base and are newly initialized: ['classifier.out_proj.weight', 'classifier.dense.bias', 'classifier.dense.weight', 'classifier.out_proj.bias']\n",
      "You should probably TRAIN this model on a down-stream task to be able to use it for predictions and inference.\n"
     ]
    },
    {
     "name": "stdout",
     "output_type": "stream",
     "text": [
      "\n",
      "--- STARTING DEEP LEARNING TRAINING ON YOUR COMPUTER ---\n",
      "!!! WARNING: THIS WILL BE EXTREMELY SLOW AND CAN TAKE MANY HOURS OR DAYS. !!!\n"
     ]
    },
    {
     "name": "stderr",
     "output_type": "stream",
     "text": [
      "d:\\Bhai ka project\\Fake_News_Project\\.venv\\Lib\\site-packages\\transformers\\optimization.py:411: FutureWarning: This implementation of AdamW is deprecated and will be removed in a future version. Use the PyTorch implementation torch.optim.AdamW instead, or set `no_deprecation_warning=True` to disable this warning\n",
      "  warnings.warn(\n",
      "  0%|          | 0/16009 [00:00<?, ?it/s]d:\\Bhai ka project\\Fake_News_Project\\.venv\\Lib\\site-packages\\torch\\utils\\data\\dataloader.py:665: UserWarning: 'pin_memory' argument is set as true but no accelerator is found, then device pinned memory won't be used.\n",
      "  warnings.warn(warn_msg)\n",
      "  0%|          | 7/16009 [06:10<228:56:56, 51.51s/it]"
     ]
    }
   ],
   "source": [
    "# ===================================================================================\n",
    "# THE DEFINITIVE, SELF-CLEANING TRAINING SCRIPT FOR VS CODE (FINAL VERSION)\n",
    "# This script installs a specific, stable set of libraries to guarantee compatibility.\n",
    "# ===================================================================================\n",
    "\n",
    "# --- Step 1: Force-Clean and Install Correct, Stable Libraries ---\n",
    "# This is the most critical step to solve all previous errors.\n",
    "import sys\n",
    "import subprocess\n",
    "try:\n",
    "    print(\"--- Step 1: Creating a clean and stable environment... ---\")\n",
    "    \n",
    "    # Force-uninstall any potentially conflicting libraries first.\n",
    "    print(\"Uninstalling old versions to prevent conflicts...\")\n",
    "    subprocess.check_call([sys.executable, \"-m\", \"pip\", \"uninstall\", \"-y\", \"transformers\", \"accelerate\", \"sentence-transformers\"])\n",
    "    \n",
    "    # CRITICAL FIX: Install a specific, stable set of libraries known to work together.\n",
    "    print(\"\\nInstalling correct, stable library versions...\")\n",
    "    subprocess.check_call([sys.executable, \"-m\", \"pip\", \"install\", \"transformers[torch]==4.30.2\", \"datasets\", \"accelerate==0.21.0\", \"scikit-learn\", \"huggingface_hub\"])\n",
    "    \n",
    "    print(\"\\nEnvironment setup complete! The script will now proceed with the correct libraries.\")\n",
    "\n",
    "except subprocess.CalledProcessError as e:\n",
    "    print(f\"CRITICAL ERROR during library setup: {e}\")\n",
    "    print(\"Please try restarting VS Code and running this cell again.\")\n",
    "    exit()\n",
    "\n",
    "\n",
    "# --- Step 2: Import Everything We Need ---\n",
    "import pandas as pd\n",
    "import numpy as np\n",
    "from datasets import Dataset\n",
    "from sklearn.metrics import accuracy_score, precision_recall_fscore_support\n",
    "from transformers import AutoTokenizer, AutoModelForSequenceClassification, Trainer, TrainingArguments, EarlyStoppingCallback\n",
    "import os\n",
    "\n",
    "# Create a directory to save the final model if it doesn't exist\n",
    "os.makedirs(\"./satya-checker-multilingual-final\", exist_ok=True)\n",
    "\n",
    "print(\"\\nAll libraries imported successfully.\")\n",
    "\n",
    "\n",
    "# --- Step 3: Load Your Master Dataset ---\n",
    "# We use a local file path. This file MUST be in the same folder as your notebook.\n",
    "file_path = 'master_balanced_training_data.csv'\n",
    "print(f\"\\nLoading the master dataset from: {file_path}\")\n",
    "try:\n",
    "    df = pd.read_csv(file_path)\n",
    "    df.dropna(subset=['text', 'label'], inplace=True)\n",
    "    df = df[df['text'].str.strip() != '']\n",
    "    df['label'] = df['label'].astype(int)\n",
    "    print(f\"Data loaded and cleaned successfully with {len(df)} articles.\")\n",
    "except FileNotFoundError:\n",
    "    print(f\"CRITICAL ERROR: The file '{file_path}' was not found.\")\n",
    "    print(\"Please run the '1_Data_Preparation.ipynb' notebook first.\")\n",
    "    exit()\n",
    "\n",
    "hg_dataset = Dataset.from_pandas(df)\n",
    "\n",
    "\n",
    "# --- Step 4: Tokenization ---\n",
    "model_name = \"xlm-roberta-base\"\n",
    "print(f\"\\nLoading tokenizer for model: {model_name}\")\n",
    "tokenizer = AutoTokenizer.from_pretrained(model_name)\n",
    "def tokenize_function(examples):\n",
    "    return tokenizer(examples[\"text\"], padding=\"max_length\", truncation=True, max_length=512)\n",
    "print(\"Tokenizing the dataset...\")\n",
    "tokenized_dataset = hg_dataset.map(tokenize_function, batched=True)\n",
    "train_test_split = tokenized_dataset.train_test_split(test_size=0.2, seed=42)\n",
    "train_dataset = train_test_split['train']\n",
    "eval_dataset = train_test_split['test']\n",
    "print(\"Tokenization and splitting complete.\")\n",
    "\n",
    "\n",
    "# --- Step 5: Define Performance Metrics ---\n",
    "def compute_metrics(pred):\n",
    "    labels = pred.label_ids\n",
    "    preds = pred.predictions.argmax(-1)\n",
    "    precision, recall, f1, _ = precision_recall_fscore_support(labels, preds, average='binary')\n",
    "    acc = accuracy_score(labels, preds)\n",
    "    return {'accuracy': acc, 'f1': f1, 'precision': precision, 'recall': recall}\n",
    "print(\"\\nPerformance metrics function defined.\")\n",
    "\n",
    "\n",
    "# --- Step 6: The Final, Local-Safe Training Setup ---\n",
    "print(\"\\nPreparing training for local machine (CPU)...\")\n",
    "model = AutoModelForSequenceClassification.from_pretrained(model_name, num_labels=2)\n",
    "\n",
    "training_args = TrainingArguments(\n",
    "    output_dir=\"./local-training-checkpoints\", \n",
    "    num_train_epochs=1,\n",
    "    learning_rate=2e-5,\n",
    "    per_device_train_batch_size=1,\n",
    "    per_device_eval_batch_size=1,\n",
    "    gradient_accumulation_steps=8, \n",
    "    weight_decay=0.01,\n",
    "    fp16=False,\n",
    "    evaluation_strategy=\"steps\",\n",
    "    eval_steps=500,\n",
    "    save_strategy=\"steps\",\n",
    "    save_steps=500,\n",
    "    load_best_model_at_end=True,\n",
    "    save_total_limit=2,\n",
    "    report_to=\"tensorboard\",\n",
    "    push_to_hub=False,\n",
    ")\n",
    "\n",
    "trainer = Trainer(\n",
    "    model=model,\n",
    "    args=training_args,\n",
    "    train_dataset=train_dataset,\n",
    "    eval_dataset=eval_dataset,\n",
    "    compute_metrics=compute_metrics,\n",
    "    callbacks=[EarlyStoppingCallback(early_stopping_patience=3)]\n",
    ")\n",
    "\n",
    "\n",
    "# --- Step 7: Train the Model ---\n",
    "print(\"\\n--- STARTING DEEP LEARNING TRAINING ON YOUR COMPUTER ---\")\n",
    "print(\"!!! WARNING: THIS WILL BE EXTREMELY SLOW AND CAN TAKE MANY HOURS OR DAYS. !!!\")\n",
    "trainer.train()\n",
    "print(\"\\n--- TRAINING COMPLETE ---\")\n",
    "\n",
    "\n",
    "# --- Step 8: Save the Final, Best Model ---\n",
    "output_save_path = \"./satya-checker-multilingual-final\"\n",
    "print(f\"\\nSaving the final best model and tokenizer to: '{output_save_path}'\")\n",
    "trainer.save_model(output_save_path)\n",
    "tokenizer.save_pretrained(output_save_path)\n",
    "print(\"New Deep Learning model saved successfully!\")\n",
    "\n",
    "\n",
    "# --- Step 9: Final Evaluation Report Card ---\n",
    "print(\"\\n--- FINAL MODEL EVALUATION ---\")\n",
    "final_evaluation = trainer.evaluate()\n",
    "print(\"\\n--- YOUR MODEL'S FINAL REPORT CARD ---\")\n",
    "print(f\"  Accuracy:  {final_evaluation['eval_accuracy']:.4f}\")\n",
    "print(f\"  F1 Score:  {final_evaluation['eval_f1']:.4f}\")\n",
    "print(f\"  Precision: {final_evaluation['eval_precision']:.4f}\")\n",
    "print(f\"  Recall:    {final_evaluation['eval_recall']:.4f}\")\n",
    "print(\"------------------------------------------\")\n"
   ]
  },
  {
   "cell_type": "code",
   "execution_count": null,
   "id": "8a2e2b0e",
   "metadata": {},
   "outputs": [],
   "source": []
  }
 ],
 "metadata": {
  "kernelspec": {
   "display_name": ".venv",
   "language": "python",
   "name": "python3"
  },
  "language_info": {
   "codemirror_mode": {
    "name": "ipython",
    "version": 3
   },
   "file_extension": ".py",
   "mimetype": "text/x-python",
   "name": "python",
   "nbconvert_exporter": "python",
   "pygments_lexer": "ipython3",
   "version": "3.11.9"
  }
 },
 "nbformat": 4,
 "nbformat_minor": 5
}
